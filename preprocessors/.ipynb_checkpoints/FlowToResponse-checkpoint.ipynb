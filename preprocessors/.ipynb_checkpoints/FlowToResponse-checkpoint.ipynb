{
 "cells": [
  {
   "cell_type": "code",
   "execution_count": 51,
   "metadata": {},
   "outputs": [],
   "source": [
    "\"\"\"Conversion of flow cytometry data into conditional output distributions\n",
    "   and response function with quintiles.\n",
    "\n",
    "Author: Swarnavo Sarkar\n",
    "Email: swarnavo.sarkar@nist.gov\n",
    "\n",
    "If you are using SEMIL and any of the pre and postprocessing code, please cite \n",
    "'Mutual Information Landscapes as a Performance Metric for Biochemical Reaction Networks'\n",
    "\"\"\"\n",
    "\n",
    "\n",
    "import glob #filenames and pathnames utility\n",
    "import os   #operating sytem utility\n",
    "import numpy as np\n",
    "import pandas as pd\n",
    "import pickle\n",
    "import random as rand\n",
    "import sys\n",
    "import math\n",
    "\n",
    "import matplotlib.pyplot as plt"
   ]
  },
  {
   "cell_type": "code",
   "execution_count": 52,
   "metadata": {},
   "outputs": [],
   "source": [
    "# Directory where the cytometry dataframes are located\n",
    "#data_directory = '/Users/sns9/Research/IMS_project/FeedbackExpDec18/WTA'\n",
    "\n",
    "data_directory = '/Volumes/Shared_Data/GSF-IMS/E-Coli/pLMSF-lacI/2020-01-12_IPTG-Cytom-12-plasmids/plate_2'\n",
    "\n",
    "output_directory = '/Volumes/Shared_Data/GSF-IMS/E-Coli/pLMSF-lacI/2020-01-12_IPTG-Cytom-12-plasmids'\n",
    "\n",
    "os.chdir(data_directory)"
   ]
  },
  {
   "cell_type": "code",
   "execution_count": 53,
   "metadata": {},
   "outputs": [],
   "source": [
    "# Subsamples (with replacements) for obtaining output distributions\n",
    "# will be used for correcting for finite-sampling\n",
    "data_fractions = [1,2,5,10]\n",
    "n_samples = list(range(1,6))\n",
    "\n",
    "# Number of bins to bin cytometry data\n",
    "n_bins = 200\n",
    "\n",
    "# Quintiles for error bounds to the response curve\n",
    "q_up, q_low = 95.0, 5.0"
   ]
  },
  {
   "cell_type": "code",
   "execution_count": 54,
   "metadata": {},
   "outputs": [],
   "source": [
    "# Labels for plate and experimental replicate\n",
    "plate_label = ['C']\n",
    "rep_label = 'pAN-IPTG-008'\n",
    "tag = 'pAN-IPTG-008'\n",
    "filter_string = 'pAN-IPTG-008-'\n",
    "conc_separator = '-'\n",
    "plate_separator = '_'\n",
    "data_fractions = [1,2,5,10]\n",
    "n_subsamples = 5"
   ]
  },
  {
   "cell_type": "code",
   "execution_count": 55,
   "metadata": {},
   "outputs": [],
   "source": [
    "coli_files = glob.glob('*.frame_pkl')\n",
    "\n",
    "filenames = [file.rsplit('.',1)[0] for file in coli_files]\n",
    "\n",
    "coli_frame = [ pickle.load(open(file, 'rb')) for file in coli_files ]\n",
    "\n",
    "for file in filenames:\n",
    "    if 'summary' in file:\n",
    "        summary_idx = filenames.index(file)\n",
    "\n",
    "del filenames[summary_idx]\n",
    "del coli_frame[summary_idx]\n",
    "\n",
    "#filenames = [file.rsplit('.',1)[0] for file in coli_files]\n",
    "\n",
    "#coli_frame = [ pickle.load(open(file, 'rb')) for file in coli_files ]\n",
    "\n",
    "singlet_data = [frame.loc[frame['is_singlet']] for frame in coli_frame]"
   ]
  },
  {
   "cell_type": "code",
   "execution_count": 56,
   "metadata": {},
   "outputs": [],
   "source": [
    "data_covered = []\n",
    "\n",
    "location_string = {}\n",
    "wt_string = {}\n",
    "\n",
    "means = {}\n",
    "quints = {}\n",
    "percents = {}"
   ]
  },
  {
   "cell_type": "code",
   "execution_count": 57,
   "metadata": {},
   "outputs": [],
   "source": [
    "index_set = None\n",
    "data_size = 0\n",
    "\n",
    "conclist = []\n",
    "datas = {}"
   ]
  },
  {
   "cell_type": "code",
   "execution_count": 66,
   "metadata": {
    "scrolled": true
   },
   "outputs": [
    {
     "name": "stdout",
     "output_type": "stream",
     "text": [
      "pAN-IPTG-008-0.032\n",
      "pAN-IPTG-008-4.096\n",
      "pAN-IPTG-008-0.016\n",
      "pAN-IPTG-008-8.192\n",
      "pAN-IPTG-008-0.0\n",
      "pAN-IPTG-008-0.256\n",
      "pAN-IPTG-008-0.512\n",
      "pAN-IPTG-008-1.024\n",
      "pAN-IPTG-008-2.048\n",
      "pAN-IPTG-008-16.384\n",
      "pAN-IPTG-008-0.128\n",
      "pAN-IPTG-008-0.064\n"
     ]
    }
   ],
   "source": [
    "fl_channel = 'BL1-A-MEF'\n",
    "glob_min = 1000000\n",
    "glob_max = 0\n",
    "\n",
    "for i, singlet in zip(range(len(singlet_data)), singlet_data):\n",
    "    index_set = None\n",
    "    for j in range(1):\n",
    "        label, plate_no = filenames[i].split(plate_separator)\n",
    "        this_plate = plate_no[0]\n",
    "\n",
    "        if (plate_label[0] in plate_no) and rep_label in label: # or plate_label[1] in plate_no\n",
    "            print(label)\n",
    "\n",
    "            conc_v = float(label.replace(filter_string,''))#conc_separator)[1])\n",
    "            if conc_v!=0.0:\n",
    "                expo = math.log(conc_v)/math.log(2.0)\n",
    "                if abs(expo-int(expo))<1e-16:\n",
    "                    conc_value = str(conc_v)\n",
    "                else:\n",
    "                    conc_value = str(conc_v*1000)\n",
    "\n",
    "                if conc_value not in data_covered:\n",
    "                    data_covered.append(conc_value)\n",
    "                    conclist.append(float(conc_value))\n",
    "\n",
    "                    datas[conc_value] = singlet[fl_channel]\n",
    "                    #print(len(singlet[fl_channel]))\n",
    "\n",
    "                    glob_max = max(glob_max,max(singlet[fl_channel]))\n",
    "                    glob_min = min(glob_min,min(singlet[fl_channel]))"
   ]
  },
  {
   "cell_type": "code",
   "execution_count": 59,
   "metadata": {},
   "outputs": [
    {
     "name": "stdout",
     "output_type": "stream",
     "text": [
      "[16.0, 32.0, 64.0, 128.0, 192.0, 256.0, 512.0, 1024.0, 2048.0, 4096.0, 16384.0]\n",
      "253684.37004559895 -2097.519975856897\n"
     ]
    }
   ],
   "source": [
    "conclist.sort()\n",
    "print(conclist)\n",
    "\n",
    "print(glob_max,glob_min)"
   ]
  },
  {
   "cell_type": "code",
   "execution_count": 60,
   "metadata": {},
   "outputs": [
    {
     "name": "stdout",
     "output_type": "stream",
     "text": [
      "/Volumes/Shared_Data/GSF-IMS/E-Coli/pLMSF-lacI/2020-01-12_IPTG-Cytom-12-plasmids\n"
     ]
    }
   ],
   "source": [
    "bin_edge = np.linspace(0.0, glob_max-glob_min,n_bins)\n",
    "bin_locs = np.zeros(shape=(bin_edge.shape[0]-1))\n",
    "\n",
    "for k in range(0,len(bin_edge)-1):\n",
    "    bin_locs[k] = 0.5*(bin_edge[k]+bin_edge[k+1])\n",
    "    if k==0:\n",
    "        locstring = str(0.5*(bin_edge[k]+bin_edge[k+1]))\n",
    "    else:\n",
    "        locstring += ','+str(0.5*(bin_edge[k]+bin_edge[k+1]))\n",
    "\n",
    "dir_tag = plate_label[0]#+plate_label[1]\n",
    "\n",
    "os.chdir(output_directory)\n",
    "print(os.getcwd())"
   ]
  },
  {
   "cell_type": "code",
   "execution_count": 61,
   "metadata": {},
   "outputs": [],
   "source": [
    "# Write values of input at which the flow cytometry data was measured\n",
    "\n",
    "try:\n",
    "    os.mkdir(dir_tag+tag)\n",
    "except OSError:\n",
    "    pass\n",
    "    \n",
    "os.chdir(dir_tag+tag)\n",
    "\n",
    "f = open('samples.txt','w')\n",
    "\n",
    "for c in conclist:\n",
    "    #if conclist.index(c)==0:\n",
    "    print(c,file=f)\n",
    "\n",
    "f.close()"
   ]
  },
  {
   "cell_type": "code",
   "execution_count": 62,
   "metadata": {},
   "outputs": [],
   "source": [
    "response_set = np.zeros(shape=(len(conclist),4))\n",
    "\n",
    "for i in range(0,len(conclist)):\n",
    "    cs = str(conclist[i])\n",
    "    darray = datas[cs].values\n",
    "\n",
    "    darray = darray - glob_min\n",
    "\n",
    "    pc = np.percentile(darray,[q_low,q_up])\n",
    "    \n",
    "    response_set[i,0] = conclist[i]\n",
    "    response_set[i,1] = np.mean(darray)\n",
    "    response_set[i,2] = q_up - response_set[i,1]\n",
    "    response_set[i,3] = response_set[i,1] - q_low\n",
    "    \n",
    "\n",
    "np.savetxt('response.csv',response_set,delimiter=',',header='i,g,+,-',comments='')"
   ]
  },
  {
   "cell_type": "code",
   "execution_count": 63,
   "metadata": {},
   "outputs": [],
   "source": [
    "conditional_distributions = np.zeros(shape=(len(conclist)+1,bin_locs.shape[0]))\n",
    "\n",
    "conditional_distributions[0,:] = bin_locs\n",
    "\n",
    "for i in range(0,len(conclist)):\n",
    "    cs = str(conclist[i])\n",
    "    darray = datas[cs].values\n",
    "    darray_list = list(darray)\n",
    "\n",
    "    hist, b_edges = np.histogram(darray_list,bin_edge)\n",
    "\n",
    "    total_wt = np.sum(hist)\n",
    "    \n",
    "    conditional_distributions[i+1,:] = hist/total_wt\n",
    "\n",
    "np.savetxt('expressions.csv',conditional_distributions,delimiter=',')"
   ]
  },
  {
   "cell_type": "code",
   "execution_count": 64,
   "metadata": {},
   "outputs": [],
   "source": [
    "for df in data_fractions:\n",
    "    for k in range(1,n_subsamples+1):\n",
    "        if df>=1:\n",
    "            df_str = str(int(df))\n",
    "        else:\n",
    "            df_s = str(df).split('.')\n",
    "            df_str = df_s[0]+'p'+df_s[1]\n",
    "            \n",
    "        file_name = 'expressions'+df_str+'_'+str(k)+'.csv'\n",
    "            \n",
    "        conditional_distributions = np.zeros(shape=(len(conclist)+1,bin_locs.shape[0]))\n",
    "        \n",
    "        conditional_distributions[0,:] = bin_locs\n",
    "\n",
    "        for i in range(0,len(conclist)):\n",
    "            cs = str(c)\n",
    "            darray = datas[cs].values\n",
    "            darray_list = list(darray)\n",
    "            sample_size = int(len(darray_list)/df)\n",
    "\n",
    "            d_sampled = rand.choices(darray_list,k=sample_size)\n",
    "\n",
    "            hist, b_edges = np.histogram(np.array(d_sampled),bin_edge)\n",
    "\n",
    "            total_wt = np.sum(hist)\n",
    "            \n",
    "            conditional_distributions[i+1,:] = hist/total_wt\n",
    "                       \n",
    "        np.savetxt(file_name,conditional_distributions,delimiter=',')"
   ]
  },
  {
   "cell_type": "code",
   "execution_count": 65,
   "metadata": {},
   "outputs": [
    {
     "data": {
      "image/png": "[encoded data removed]",
      "text/plain": [
       "<Figure size 432x288 with 1 Axes>"
      ]
     },
     "metadata": {
      "needs_background": "light"
     },
     "output_type": "display_data"
    }
   ],
   "source": [
    "y_errors = np.transpose(response_set[:,2:])\n",
    "plt.errorbar(response_set[:,0],response_set[:,1],yerr=y_errors,elinewidth=4)\n",
    "plt.xscale('log')\n",
    "plt.show()"
   ]
  },
  {
   "cell_type": "code",
   "execution_count": null,
   "metadata": {},
   "outputs": [],
   "source": []
  }
 ],
 "metadata": {
  "kernelspec": {
   "display_name": "Python 3",
   "language": "python",
   "name": "python3"
  },
  "language_info": {
   "codemirror_mode": {
    "name": "ipython",
    "version": 3
   },
   "file_extension": ".py",
   "mimetype": "text/x-python",
   "name": "python",
   "nbconvert_exporter": "python",
   "pygments_lexer": "ipython3",
   "version": "3.7.3"
  }
 },
 "nbformat": 4,
 "nbformat_minor": 2
}
