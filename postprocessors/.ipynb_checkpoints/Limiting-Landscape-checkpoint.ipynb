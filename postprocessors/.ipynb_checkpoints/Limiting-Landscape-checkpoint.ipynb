{
 "cells": [
  {
   "cell_type": "code",
   "execution_count": 111,
   "metadata": {},
   "outputs": [],
   "source": [
    "\"\"\"Code to compute the unbiased mutual information landscapes from a set of mutual information landscapes from\n",
    "   systematic subsamples of the flow cytometry/micrscopy data.\n",
    "   \n",
    "Author: Swarnavo Sarkar\n",
    "Email: swarnavo.sarkar@nist.gov\n",
    "\"\"\"\n",
    "\n",
    "import os\n",
    "import sys\n",
    "\n",
    "import pandas as pd\n",
    "import numpy as np\n",
    "import scipy.optimize as optim\n",
    "import math\n",
    "import scipy.special as sp\n",
    "from scipy.stats import beta\n",
    "import matplotlib.pyplot as plt\n",
    "import matplotlib.colors as colors"
   ]
  },
  {
   "cell_type": "code",
   "execution_count": 112,
   "metadata": {},
   "outputs": [],
   "source": [
    "def linear_fit(x,a,b):\n",
    "    return a*x+b"
   ]
  },
  {
   "cell_type": "code",
   "execution_count": 113,
   "metadata": {},
   "outputs": [],
   "source": [
    "data_directory = '/Users/sns9/Research/IMS_project/partial_expts/4_BElacXWT'\n",
    "os.chdir(data_directory)\n",
    "\n",
    "# Filename for the family of landscapes \n",
    "file_name = 'trial_MI_landscape'\n",
    "\n",
    "# upper and lower limits for the input random variable\n",
    "ub, lb = 6.0,-3.0\n",
    "\n",
    "# Enter axes label strings\n",
    "y_name = r\"$\\sigma$\"\n",
    "x_name = r\"$E$\"\n",
    "\n",
    "# Enter tick locations\n",
    "x_ticks = [1,10,100,1000]\n",
    "y_ticks = [10,100,1000]\n",
    "\n",
    "# scale either 'log' or 'linear'\n",
    "scale = 'log'\n",
    "\n",
    "data_fractions = [1,2,5,10]\n",
    "n_samples = list(range(1,6))"
   ]
  },
  {
   "cell_type": "code",
   "execution_count": 114,
   "metadata": {},
   "outputs": [],
   "source": [
    "dataframes = []\n",
    "xlist = []\n",
    "\n",
    "data_size = 0\n",
    "\n",
    "for df in data_fractions:\n",
    "    df_str = str(df)\n",
    "\n",
    "    for n in n_samples:\n",
    "        xlist.append(float(df))\n",
    "        filename = 'trial'+df_str+'_'+str(n)+'_MI_landscape.csv'\n",
    "        dataframes.append(pd.read_csv(filename))\n",
    "        data_size += 1\n",
    "\n",
    "x = np.array(xlist)"
   ]
  },
  {
   "cell_type": "code",
   "execution_count": 115,
   "metadata": {},
   "outputs": [],
   "source": [
    "dataframes[-1].rename(columns={'Unnamed: 0': ''},inplace=True)\n",
    "\n",
    "data_shape = dataframes[-1].shape\n",
    "index_set = dataframes[-1].index\n",
    "columns_set = list(dataframes[-1].columns)\n",
    "rows_set = list(dataframes[-1][columns_set[0]])\n",
    "\n",
    "column_range = range(0,len(columns_set))\n",
    "\n",
    "output_frame = dataframes[-1].copy()\n",
    "output_pcov = dataframes[-1].copy()"
   ]
  },
  {
   "cell_type": "code",
   "execution_count": 116,
   "metadata": {},
   "outputs": [],
   "source": [
    "max_MI = 0\n",
    "MI_var = 0\n",
    "max_coord = [0,0]\n",
    "\n",
    "for i in index_set[1:]:\n",
    "    for jj in column_range[1:]:\n",
    "        y = []\n",
    "\n",
    "        for k in range(0,data_size):\n",
    "            j = dataframes[k].columns[jj]\n",
    "            y.append(dataframes[k].at[i,j])\n",
    "\n",
    "        popt, pcov = optim.curve_fit(linear_fit,x,np.array(y))\n",
    "\n",
    "        if popt[1]>max_MI:\n",
    "            max_MI = popt[1]\n",
    "            max_coord = [float(rows_set[i]),float(j)]\n",
    "            MI_var = pcov[1,1]\n",
    "\n",
    "        j = output_frame.columns[jj]\n",
    "        output_frame.at[i,j] = popt[1]"
   ]
  },
  {
   "cell_type": "code",
   "execution_count": 117,
   "metadata": {},
   "outputs": [],
   "source": [
    "#output_frame.T.to_csv('LimitingMI_surface.csv',header=False)\n",
    "output_frame.to_csv('LimitingMI_surface.csv',index=False)\n",
    "\n",
    "f = open('C-coord.txt','w')\n",
    "print('C = ',max_MI,file=f)\n",
    "print('C_var = ',MI_var,file=f)\n",
    "print('Mean = ',max_coord[0],file=f)\n",
    "print('Std = ',max_coord[1],file=f)"
   ]
  },
  {
   "cell_type": "code",
   "execution_count": 118,
   "metadata": {},
   "outputs": [],
   "source": [
    "m, s = math.log10(max_coord[1]), math.log10(max_coord[0])\n",
    "\n",
    "s_m = (m-lb)/(ub-lb)\n",
    "s_v = (s**2)/((ub-lb)**2)\n",
    "\n",
    "p = s_m*(s_m*(1-s_m)/s_v - 1)\n",
    "q = (s_m*(1-s_m)/s_v - 1) - p\n",
    "\n",
    "xx = np.linspace(lb,ub,1000)\n",
    "\n",
    "xpdf = beta.pdf(xx,p,q,lb,(ub-lb))\n",
    "\n",
    "xcdf = beta.cdf(xx,p,q,lb,(ub-lb))\n",
    "\n",
    "solution = np.zeros(shape=(1000,3))\n",
    "\n",
    "solution[:,1] = xpdf\n",
    "solution[:,2] = xcdf\n",
    "solution[:,0] = 10**xx\n",
    "\n",
    "np.savetxt('p_c.csv',solution,delimiter=',')"
   ]
  },
  {
   "cell_type": "code",
   "execution_count": 119,
   "metadata": {},
   "outputs": [],
   "source": [
    "f = open('C-coord.txt','w')\n",
    "print('C = ',max_MI,file=f)\n",
    "print('C_var = ',MI_var,file=f)\n",
    "print('Mean = ',max_coord[1],file=f)\n",
    "print('Std = ',max_coord[0],file=f)\n",
    "f.close()"
   ]
  },
  {
   "cell_type": "code",
   "execution_count": 122,
   "metadata": {},
   "outputs": [
    {
     "data": {
      "image/png": "[encoded data removed]",
      "text/plain": [
       "<Figure size 432x288 with 2 Axes>"
      ]
     },
     "metadata": {
      "needs_background": "light"
     },
     "output_type": "display_data"
    }
   ],
   "source": [
    "# plot landscape\n",
    "out_mat = output_frame.to_numpy()\n",
    "MI_matrix = out_mat[:,1:]\n",
    "\n",
    "std_range = out_mat[:,0]\n",
    "\n",
    "mean_l = []\n",
    "\n",
    "for l in list(output_frame)[1:]:\n",
    "    mean_l.append(float(l))\n",
    "\n",
    "mean_range = np.array(mean_l)\n",
    "\n",
    "# Set up for contour\n",
    "X = np.zeros(MI_matrix.shape)\n",
    "Y = np.zeros(MI_matrix.shape)\n",
    "\n",
    "for i in range(0,int(len(list(mean_range)))):\n",
    "    for j in range(0,int(len(list(std_range)))):\n",
    "        X[i,j] = mean_range[j]\n",
    "        Y[i,j] = std_range[i]\n",
    "\n",
    "MImax = np.max(MI_matrix)\n",
    "MImin = np.min(MI_matrix)\n",
    "\n",
    "levels = list(np.linspace(0,2,8))\n",
    "\n",
    "fig = plt.figure()\n",
    "plt.axes().set_aspect(1)\n",
    "\n",
    "hot_reversed = plt.cm.get_cmap('hot_r')\n",
    "\n",
    "C = plt.pcolor(mean_range,std_range,MI_matrix,cmap=hot_reversed,vmin=0.0,vmax=MImax)\n",
    "plt.rc('xtick',labelsize=14)\n",
    "plt.rc('ytick',labelsize=14)\n",
    "#plt.title(plot_title,fontsize=14)\n",
    "\n",
    "if scale=='log':\n",
    "    plt.xscale('log')\n",
    "    plt.yscale('log')\n",
    "\n",
    "plt.yticks(y_ticks)\n",
    "plt.xticks(x_ticks)\n",
    "\n",
    "plt.ylabel(y_name,fontsize=16)\n",
    "plt.xlabel(x_name,fontsize=16)\n",
    "\n",
    "cs = plt.contour(X,Y,MI_matrix,np.array(levels[1:4]),colors='#FFFFFF')\n",
    "plt.clabel(cs,fontsize='large')\n",
    "plt.tick_params(which='major',length=6, width=1)\n",
    "plt.tick_params(which='minor',length=4, width=1)\n",
    "\n",
    "\n",
    "#plt.plot(max_coord[1],max_coord[0],color='white',marker='.',markersize=10)\n",
    "\n",
    "#MI_text = str(\"%.2f\"%round(max_MI,2))+'('+str(\"%.1f\"%round(max_coord[1],1))+','+str(\"%.2f\"%round(max_coord[0],2))+')'\n",
    "#plt.text(0.5*max_coord[1],1.1*max_coord[0],MI_text,fontsize=14,color='white')\n",
    "\n",
    "#plt.xscale('log')\n",
    "cbar = fig.colorbar(C)\n",
    "\n",
    "cbar.ax.tick_params(labelsize=10)\n",
    "\n",
    "#cbar_fit = ax.imshow(MI_matrix,cm)\n",
    "\n",
    "#fig.tight_layout()\n",
    "\n",
    "#plt.show()\n",
    "\n",
    "fig.savefig('Limit_landscape.pdf', bbox_inches='tight')\n",
    "fig.savefig('Limit_landscape.png', bbox_inches='tight', dpi=300)"
   ]
  },
  {
   "cell_type": "code",
   "execution_count": null,
   "metadata": {},
   "outputs": [],
   "source": []
  }
 ],
 "metadata": {
  "kernelspec": {
   "display_name": "Python 3",
   "language": "python",
   "name": "python3"
  },
  "language_info": {
   "codemirror_mode": {
    "name": "ipython",
    "version": 3
   },
   "file_extension": ".py",
   "mimetype": "text/x-python",
   "name": "python",
   "nbconvert_exporter": "python",
   "pygments_lexer": "ipython3",
   "version": "3.7.1"
  }
 },
 "nbformat": 4,
 "nbformat_minor": 2
}
